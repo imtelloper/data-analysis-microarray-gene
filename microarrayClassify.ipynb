{
 "cells": [
  {
   "cell_type": "code",
   "execution_count": 4,
   "metadata": {
    "collapsed": true
   },
   "outputs": [],
   "source": [
    "import pandas as pd\n",
    "import matplotlib.pyplot as plt\n",
    "import seaborn as sns\n",
    "import intelModule as imd\n",
    "import numpy as np\n",
    "\n",
    "im = imd.intelModule\n",
    "dfLh = pd.read_csv('./data/Lung_header.csv')\n",
    "dfCth = pd.read_csv('./data/Colon_Tumor_header.csv')\n",
    "dfOh = pd.read_csv('./data/Ovarian_header.csv')\n",
    "dfPh = pd.read_csv('./data/Prostate_header.csv')"
   ]
  },
  {
   "cell_type": "code",
   "execution_count": 5,
   "outputs": [
    {
     "name": "stdout",
     "output_type": "stream",
     "text": [
      "#INFO Lung_header#\n",
      "<class 'pandas.core.frame.DataFrame'>\n",
      "RangeIndex: 203 entries, 0 to 202\n",
      "Columns: 12601 entries, x1 to class\n",
      "dtypes: float64(12600), object(1)\n",
      "memory usage: 19.5+ MB\n"
     ]
    }
   ],
   "source": [
    "print('#INFO Lung_header#')\n",
    "dfLh.info()"
   ],
   "metadata": {
    "collapsed": false,
    "pycharm": {
     "name": "#%%\n"
    }
   }
  },
  {
   "cell_type": "code",
   "execution_count": 6,
   "outputs": [
    {
     "name": "stdout",
     "output_type": "stream",
     "text": [
      "#INFO Colon_Tumor_header#\n",
      "<class 'pandas.core.frame.DataFrame'>\n",
      "RangeIndex: 62 entries, 0 to 61\n",
      "Columns: 2001 entries, x1 to x2001\n",
      "dtypes: float64(2000), object(1)\n",
      "memory usage: 969.4+ KB\n"
     ]
    }
   ],
   "source": [
    "print('#INFO Colon_Tumor_header#')\n",
    "dfCth.info()"
   ],
   "metadata": {
    "collapsed": false,
    "pycharm": {
     "name": "#%%\n"
    }
   }
  },
  {
   "cell_type": "code",
   "execution_count": 7,
   "outputs": [
    {
     "name": "stdout",
     "output_type": "stream",
     "text": [
      "#INFO Ovarian_header#\n",
      "<class 'pandas.core.frame.DataFrame'>\n",
      "RangeIndex: 253 entries, 0 to 252\n",
      "Columns: 15116 entries, class to x15115\n",
      "dtypes: float64(15115), object(1)\n",
      "memory usage: 29.2+ MB\n"
     ]
    }
   ],
   "source": [
    "print('#INFO Ovarian_header#')\n",
    "dfOh.info()"
   ],
   "metadata": {
    "collapsed": false,
    "pycharm": {
     "name": "#%%\n"
    }
   }
  },
  {
   "cell_type": "code",
   "execution_count": 8,
   "outputs": [
    {
     "name": "stdout",
     "output_type": "stream",
     "text": [
      "#INFO Prostate_header#\n",
      "<class 'pandas.core.frame.DataFrame'>\n",
      "RangeIndex: 102 entries, 0 to 101\n",
      "Columns: 12601 entries, x1 to x12601\n",
      "dtypes: float64(12600), object(1)\n",
      "memory usage: 9.8+ MB\n"
     ]
    }
   ],
   "source": [
    "print('#INFO Prostate_header#')\n",
    "dfPh.info()"
   ],
   "metadata": {
    "collapsed": false,
    "pycharm": {
     "name": "#%%\n"
    }
   }
  },
  {
   "cell_type": "code",
   "execution_count": 9,
   "outputs": [
    {
     "name": "stdout",
     "output_type": "stream",
     "text": [
      "#HEAD Lung_header#\n"
     ]
    },
    {
     "data": {
      "text/plain": "       x1     x2     x3     x4      x5     x6    x7     x8     x9    x10  ...  \\\n0 -18.600  10.54   0.01  19.44 -16.980 -27.50 -1.60  38.88 -29.12 -42.87  ...   \n1   9.120   9.12  10.18  29.29  -4.680  -1.50 -3.62  20.80 -13.18 -35.47  ...   \n2  -2.175  -2.21  -0.06   6.32  -1.775 -16.53 -3.61  16.41 -17.97 -57.02  ...   \n\n   x12592  x12593  x12594  x12595  x12596  x12597  x12598  x12599   x12600  \\\n0    8.11  33.210  30.780   47.80   1.630   17.02  13.780 -103.49   76.980   \n1   15.49  27.170  26.110   45.22  10.180   69.64 -24.850  -34.41  105.730   \n2   14.61  10.875  10.615   35.14   1.745   29.71  10.465  -42.63   73.735   \n\n   class  \n0      a  \n1      a  \n2      a  \n\n[3 rows x 12601 columns]",
      "text/html": "<div>\n<style scoped>\n    .dataframe tbody tr th:only-of-type {\n        vertical-align: middle;\n    }\n\n    .dataframe tbody tr th {\n        vertical-align: top;\n    }\n\n    .dataframe thead th {\n        text-align: right;\n    }\n</style>\n<table border=\"1\" class=\"dataframe\">\n  <thead>\n    <tr style=\"text-align: right;\">\n      <th></th>\n      <th>x1</th>\n      <th>x2</th>\n      <th>x3</th>\n      <th>x4</th>\n      <th>x5</th>\n      <th>x6</th>\n      <th>x7</th>\n      <th>x8</th>\n      <th>x9</th>\n      <th>x10</th>\n      <th>...</th>\n      <th>x12592</th>\n      <th>x12593</th>\n      <th>x12594</th>\n      <th>x12595</th>\n      <th>x12596</th>\n      <th>x12597</th>\n      <th>x12598</th>\n      <th>x12599</th>\n      <th>x12600</th>\n      <th>class</th>\n    </tr>\n  </thead>\n  <tbody>\n    <tr>\n      <th>0</th>\n      <td>-18.600</td>\n      <td>10.54</td>\n      <td>0.01</td>\n      <td>19.44</td>\n      <td>-16.980</td>\n      <td>-27.50</td>\n      <td>-1.60</td>\n      <td>38.88</td>\n      <td>-29.12</td>\n      <td>-42.87</td>\n      <td>...</td>\n      <td>8.11</td>\n      <td>33.210</td>\n      <td>30.780</td>\n      <td>47.80</td>\n      <td>1.630</td>\n      <td>17.02</td>\n      <td>13.780</td>\n      <td>-103.49</td>\n      <td>76.980</td>\n      <td>a</td>\n    </tr>\n    <tr>\n      <th>1</th>\n      <td>9.120</td>\n      <td>9.12</td>\n      <td>10.18</td>\n      <td>29.29</td>\n      <td>-4.680</td>\n      <td>-1.50</td>\n      <td>-3.62</td>\n      <td>20.80</td>\n      <td>-13.18</td>\n      <td>-35.47</td>\n      <td>...</td>\n      <td>15.49</td>\n      <td>27.170</td>\n      <td>26.110</td>\n      <td>45.22</td>\n      <td>10.180</td>\n      <td>69.64</td>\n      <td>-24.850</td>\n      <td>-34.41</td>\n      <td>105.730</td>\n      <td>a</td>\n    </tr>\n    <tr>\n      <th>2</th>\n      <td>-2.175</td>\n      <td>-2.21</td>\n      <td>-0.06</td>\n      <td>6.32</td>\n      <td>-1.775</td>\n      <td>-16.53</td>\n      <td>-3.61</td>\n      <td>16.41</td>\n      <td>-17.97</td>\n      <td>-57.02</td>\n      <td>...</td>\n      <td>14.61</td>\n      <td>10.875</td>\n      <td>10.615</td>\n      <td>35.14</td>\n      <td>1.745</td>\n      <td>29.71</td>\n      <td>10.465</td>\n      <td>-42.63</td>\n      <td>73.735</td>\n      <td>a</td>\n    </tr>\n  </tbody>\n</table>\n<p>3 rows × 12601 columns</p>\n</div>"
     },
     "execution_count": 9,
     "metadata": {},
     "output_type": "execute_result"
    }
   ],
   "source": [
    "print('#HEAD Lung_header#')\n",
    "dfLh.head(3)"
   ],
   "metadata": {
    "collapsed": false,
    "pycharm": {
     "name": "#%%\n"
    }
   }
  },
  {
   "cell_type": "code",
   "execution_count": 10,
   "outputs": [
    {
     "name": "stdout",
     "output_type": "stream",
     "text": [
      "#HEAD Colon_Tumor_header#\n"
     ]
    },
    {
     "data": {
      "text/plain": "  x1      x2      x3      x4      x5      x6      x7      x8      x9     x10  \\\n0  a  0.5091  0.2291  0.0906  0.0365 -0.6911  0.2395 -0.7578 -0.0911  1.1808   \n1  b  0.6934  0.7996  0.4316 -0.1321 -0.6763  0.3603  0.1398 -0.0733  0.9696   \n2  a -1.0297  0.9137  0.7011  0.3588 -1.3030 -1.3062 -1.2066 -1.2497 -0.5714   \n\n   ...   x1992   x1993   x1994   x1995   x1996   x1997   x1998   x1999  \\\n0  ... -0.7409 -0.4181 -0.1855  0.1903 -0.4437 -0.9029 -0.1894 -0.4457   \n1  ... -0.5036 -0.1027 -1.0984  0.3493 -0.5028 -0.6196  0.7869  0.8192   \n2  ... -0.2909 -0.2245 -1.4620  0.9191 -0.5541  0.2559 -0.6138 -0.8207   \n\n    x2000   x2001  \n0  0.7847 -0.5026  \n1 -0.2280 -0.9219  \n2 -0.9654 -0.9783  \n\n[3 rows x 2001 columns]",
      "text/html": "<div>\n<style scoped>\n    .dataframe tbody tr th:only-of-type {\n        vertical-align: middle;\n    }\n\n    .dataframe tbody tr th {\n        vertical-align: top;\n    }\n\n    .dataframe thead th {\n        text-align: right;\n    }\n</style>\n<table border=\"1\" class=\"dataframe\">\n  <thead>\n    <tr style=\"text-align: right;\">\n      <th></th>\n      <th>x1</th>\n      <th>x2</th>\n      <th>x3</th>\n      <th>x4</th>\n      <th>x5</th>\n      <th>x6</th>\n      <th>x7</th>\n      <th>x8</th>\n      <th>x9</th>\n      <th>x10</th>\n      <th>...</th>\n      <th>x1992</th>\n      <th>x1993</th>\n      <th>x1994</th>\n      <th>x1995</th>\n      <th>x1996</th>\n      <th>x1997</th>\n      <th>x1998</th>\n      <th>x1999</th>\n      <th>x2000</th>\n      <th>x2001</th>\n    </tr>\n  </thead>\n  <tbody>\n    <tr>\n      <th>0</th>\n      <td>a</td>\n      <td>0.5091</td>\n      <td>0.2291</td>\n      <td>0.0906</td>\n      <td>0.0365</td>\n      <td>-0.6911</td>\n      <td>0.2395</td>\n      <td>-0.7578</td>\n      <td>-0.0911</td>\n      <td>1.1808</td>\n      <td>...</td>\n      <td>-0.7409</td>\n      <td>-0.4181</td>\n      <td>-0.1855</td>\n      <td>0.1903</td>\n      <td>-0.4437</td>\n      <td>-0.9029</td>\n      <td>-0.1894</td>\n      <td>-0.4457</td>\n      <td>0.7847</td>\n      <td>-0.5026</td>\n    </tr>\n    <tr>\n      <th>1</th>\n      <td>b</td>\n      <td>0.6934</td>\n      <td>0.7996</td>\n      <td>0.4316</td>\n      <td>-0.1321</td>\n      <td>-0.6763</td>\n      <td>0.3603</td>\n      <td>0.1398</td>\n      <td>-0.0733</td>\n      <td>0.9696</td>\n      <td>...</td>\n      <td>-0.5036</td>\n      <td>-0.1027</td>\n      <td>-1.0984</td>\n      <td>0.3493</td>\n      <td>-0.5028</td>\n      <td>-0.6196</td>\n      <td>0.7869</td>\n      <td>0.8192</td>\n      <td>-0.2280</td>\n      <td>-0.9219</td>\n    </tr>\n    <tr>\n      <th>2</th>\n      <td>a</td>\n      <td>-1.0297</td>\n      <td>0.9137</td>\n      <td>0.7011</td>\n      <td>0.3588</td>\n      <td>-1.3030</td>\n      <td>-1.3062</td>\n      <td>-1.2066</td>\n      <td>-1.2497</td>\n      <td>-0.5714</td>\n      <td>...</td>\n      <td>-0.2909</td>\n      <td>-0.2245</td>\n      <td>-1.4620</td>\n      <td>0.9191</td>\n      <td>-0.5541</td>\n      <td>0.2559</td>\n      <td>-0.6138</td>\n      <td>-0.8207</td>\n      <td>-0.9654</td>\n      <td>-0.9783</td>\n    </tr>\n  </tbody>\n</table>\n<p>3 rows × 2001 columns</p>\n</div>"
     },
     "execution_count": 10,
     "metadata": {},
     "output_type": "execute_result"
    }
   ],
   "source": [
    "print('#HEAD Colon_Tumor_header#')\n",
    "dfCth.head(3)"
   ],
   "metadata": {
    "collapsed": false,
    "pycharm": {
     "name": "#%%\n"
    }
   }
  },
  {
   "cell_type": "code",
   "execution_count": 11,
   "outputs": [
    {
     "name": "stdout",
     "output_type": "stream",
     "text": [
      "#HEAD Ovarian_header#\n"
     ]
    },
    {
     "data": {
      "text/plain": "  class        x1        x2        x3        x4        x5        x6        x7  \\\n0     b  0.494626  0.263735  0.321841  0.220934  0.297622  0.316458  0.154763   \n1     b  0.258063  0.406593  0.321841  0.069771  0.333335  0.354432  0.321431   \n2     b  0.537636  0.032966  0.321841  0.209307  0.404762  0.113927  0.369049   \n\n         x8        x9  ...    x15106    x15107    x15108    x15109    x15110  \\\n0  0.223685  0.304346  ...  0.467498  0.483622  0.449296  0.449296  0.449296   \n1  0.144740  0.260869  ...  0.622356  0.631765  0.619718  0.619718  0.619718   \n2  0.223685  0.536231  ...  0.032870  0.038462  0.035918  0.035918  0.035918   \n\n     x15111    x15112    x15113    x15114    x15115  \n0  0.449296  0.449296  0.449296  0.449296  0.449296  \n1  0.619718  0.619718  0.619718  0.619718  0.619718  \n2  0.035918  0.035918  0.035918  0.035918  0.035918  \n\n[3 rows x 15116 columns]",
      "text/html": "<div>\n<style scoped>\n    .dataframe tbody tr th:only-of-type {\n        vertical-align: middle;\n    }\n\n    .dataframe tbody tr th {\n        vertical-align: top;\n    }\n\n    .dataframe thead th {\n        text-align: right;\n    }\n</style>\n<table border=\"1\" class=\"dataframe\">\n  <thead>\n    <tr style=\"text-align: right;\">\n      <th></th>\n      <th>class</th>\n      <th>x1</th>\n      <th>x2</th>\n      <th>x3</th>\n      <th>x4</th>\n      <th>x5</th>\n      <th>x6</th>\n      <th>x7</th>\n      <th>x8</th>\n      <th>x9</th>\n      <th>...</th>\n      <th>x15106</th>\n      <th>x15107</th>\n      <th>x15108</th>\n      <th>x15109</th>\n      <th>x15110</th>\n      <th>x15111</th>\n      <th>x15112</th>\n      <th>x15113</th>\n      <th>x15114</th>\n      <th>x15115</th>\n    </tr>\n  </thead>\n  <tbody>\n    <tr>\n      <th>0</th>\n      <td>b</td>\n      <td>0.494626</td>\n      <td>0.263735</td>\n      <td>0.321841</td>\n      <td>0.220934</td>\n      <td>0.297622</td>\n      <td>0.316458</td>\n      <td>0.154763</td>\n      <td>0.223685</td>\n      <td>0.304346</td>\n      <td>...</td>\n      <td>0.467498</td>\n      <td>0.483622</td>\n      <td>0.449296</td>\n      <td>0.449296</td>\n      <td>0.449296</td>\n      <td>0.449296</td>\n      <td>0.449296</td>\n      <td>0.449296</td>\n      <td>0.449296</td>\n      <td>0.449296</td>\n    </tr>\n    <tr>\n      <th>1</th>\n      <td>b</td>\n      <td>0.258063</td>\n      <td>0.406593</td>\n      <td>0.321841</td>\n      <td>0.069771</td>\n      <td>0.333335</td>\n      <td>0.354432</td>\n      <td>0.321431</td>\n      <td>0.144740</td>\n      <td>0.260869</td>\n      <td>...</td>\n      <td>0.622356</td>\n      <td>0.631765</td>\n      <td>0.619718</td>\n      <td>0.619718</td>\n      <td>0.619718</td>\n      <td>0.619718</td>\n      <td>0.619718</td>\n      <td>0.619718</td>\n      <td>0.619718</td>\n      <td>0.619718</td>\n    </tr>\n    <tr>\n      <th>2</th>\n      <td>b</td>\n      <td>0.537636</td>\n      <td>0.032966</td>\n      <td>0.321841</td>\n      <td>0.209307</td>\n      <td>0.404762</td>\n      <td>0.113927</td>\n      <td>0.369049</td>\n      <td>0.223685</td>\n      <td>0.536231</td>\n      <td>...</td>\n      <td>0.032870</td>\n      <td>0.038462</td>\n      <td>0.035918</td>\n      <td>0.035918</td>\n      <td>0.035918</td>\n      <td>0.035918</td>\n      <td>0.035918</td>\n      <td>0.035918</td>\n      <td>0.035918</td>\n      <td>0.035918</td>\n    </tr>\n  </tbody>\n</table>\n<p>3 rows × 15116 columns</p>\n</div>"
     },
     "execution_count": 11,
     "metadata": {},
     "output_type": "execute_result"
    }
   ],
   "source": [
    "print('#HEAD Ovarian_header#')\n",
    "dfOh.head(3)"
   ],
   "metadata": {
    "collapsed": false,
    "pycharm": {
     "name": "#%%\n"
    }
   }
  },
  {
   "cell_type": "code",
   "execution_count": 12,
   "outputs": [
    {
     "name": "stdout",
     "output_type": "stream",
     "text": [
      "#HEAD Prostate_header#\n"
     ]
    },
    {
     "data": {
      "text/plain": "  x1        x2        x3        x4        x5        x6        x7        x8  \\\n0  a -0.134805 -0.506666 -0.174223  0.001135  0.316452  0.696787  0.833857   \n1  a  0.451018 -0.506666 -0.174223 -0.605118  0.316452  0.583198  0.431998   \n2  a  0.116262  0.969639  1.012076  0.772729  0.947500  0.242433 -0.371719   \n\n         x9       x10  ...    x12592    x12593    x12594    x12595    x12596  \\\n0 -0.353576  0.333157  ... -0.532367  0.519921 -0.297474  0.165407 -0.262286   \n1 -0.353576  0.659370  ... -0.622157  0.430257 -0.413505 -0.222939 -0.618697   \n2 -0.229300 -0.226064  ...  0.311660  0.071600  0.630781 -0.266089  0.673295   \n\n     x12597    x12598    x12599    x12600    x12601  \n0 -0.517077 -0.621204  0.008375  0.541748 -0.017945  \n1 -0.218707 -0.229592 -0.252873  0.771733  0.625331  \n2  0.179120 -0.072947  0.191249 -0.502030 -0.251864  \n\n[3 rows x 12601 columns]",
      "text/html": "<div>\n<style scoped>\n    .dataframe tbody tr th:only-of-type {\n        vertical-align: middle;\n    }\n\n    .dataframe tbody tr th {\n        vertical-align: top;\n    }\n\n    .dataframe thead th {\n        text-align: right;\n    }\n</style>\n<table border=\"1\" class=\"dataframe\">\n  <thead>\n    <tr style=\"text-align: right;\">\n      <th></th>\n      <th>x1</th>\n      <th>x2</th>\n      <th>x3</th>\n      <th>x4</th>\n      <th>x5</th>\n      <th>x6</th>\n      <th>x7</th>\n      <th>x8</th>\n      <th>x9</th>\n      <th>x10</th>\n      <th>...</th>\n      <th>x12592</th>\n      <th>x12593</th>\n      <th>x12594</th>\n      <th>x12595</th>\n      <th>x12596</th>\n      <th>x12597</th>\n      <th>x12598</th>\n      <th>x12599</th>\n      <th>x12600</th>\n      <th>x12601</th>\n    </tr>\n  </thead>\n  <tbody>\n    <tr>\n      <th>0</th>\n      <td>a</td>\n      <td>-0.134805</td>\n      <td>-0.506666</td>\n      <td>-0.174223</td>\n      <td>0.001135</td>\n      <td>0.316452</td>\n      <td>0.696787</td>\n      <td>0.833857</td>\n      <td>-0.353576</td>\n      <td>0.333157</td>\n      <td>...</td>\n      <td>-0.532367</td>\n      <td>0.519921</td>\n      <td>-0.297474</td>\n      <td>0.165407</td>\n      <td>-0.262286</td>\n      <td>-0.517077</td>\n      <td>-0.621204</td>\n      <td>0.008375</td>\n      <td>0.541748</td>\n      <td>-0.017945</td>\n    </tr>\n    <tr>\n      <th>1</th>\n      <td>a</td>\n      <td>0.451018</td>\n      <td>-0.506666</td>\n      <td>-0.174223</td>\n      <td>-0.605118</td>\n      <td>0.316452</td>\n      <td>0.583198</td>\n      <td>0.431998</td>\n      <td>-0.353576</td>\n      <td>0.659370</td>\n      <td>...</td>\n      <td>-0.622157</td>\n      <td>0.430257</td>\n      <td>-0.413505</td>\n      <td>-0.222939</td>\n      <td>-0.618697</td>\n      <td>-0.218707</td>\n      <td>-0.229592</td>\n      <td>-0.252873</td>\n      <td>0.771733</td>\n      <td>0.625331</td>\n    </tr>\n    <tr>\n      <th>2</th>\n      <td>a</td>\n      <td>0.116262</td>\n      <td>0.969639</td>\n      <td>1.012076</td>\n      <td>0.772729</td>\n      <td>0.947500</td>\n      <td>0.242433</td>\n      <td>-0.371719</td>\n      <td>-0.229300</td>\n      <td>-0.226064</td>\n      <td>...</td>\n      <td>0.311660</td>\n      <td>0.071600</td>\n      <td>0.630781</td>\n      <td>-0.266089</td>\n      <td>0.673295</td>\n      <td>0.179120</td>\n      <td>-0.072947</td>\n      <td>0.191249</td>\n      <td>-0.502030</td>\n      <td>-0.251864</td>\n    </tr>\n  </tbody>\n</table>\n<p>3 rows × 12601 columns</p>\n</div>"
     },
     "execution_count": 12,
     "metadata": {},
     "output_type": "execute_result"
    }
   ],
   "source": [
    "print('#HEAD Prostate_header#')\n",
    "dfPh.head(3)"
   ],
   "metadata": {
    "collapsed": false,
    "pycharm": {
     "name": "#%%\n"
    }
   }
  },
  {
   "cell_type": "code",
   "execution_count": 13,
   "outputs": [
    {
     "data": {
      "text/plain": "a    139\nd     21\ne     20\nb     17\nc      6\nName: class, dtype: int64"
     },
     "execution_count": 13,
     "metadata": {},
     "output_type": "execute_result"
    }
   ],
   "source": [
    "# Lung Header y변수 고유값\n",
    "dfLh['class'].value_counts()"
   ],
   "metadata": {
    "collapsed": false,
    "pycharm": {
     "name": "#%%\n"
    }
   }
  },
  {
   "cell_type": "code",
   "execution_count": 14,
   "outputs": [
    {
     "data": {
      "text/plain": "a    40\nb    22\nName: x1, dtype: int64"
     },
     "execution_count": 14,
     "metadata": {},
     "output_type": "execute_result"
    }
   ],
   "source": [
    "# Lung Header y변수 고유값\n",
    "dfCth['x1'].value_counts()"
   ],
   "metadata": {
    "collapsed": false,
    "pycharm": {
     "name": "#%%\n"
    }
   }
  },
  {
   "cell_type": "code",
   "execution_count": 15,
   "outputs": [
    {
     "data": {
      "text/plain": "a    162\nb     91\nName: class, dtype: int64"
     },
     "execution_count": 15,
     "metadata": {},
     "output_type": "execute_result"
    }
   ],
   "source": [
    "# Lung Header y변수 고유값\n",
    "dfOh['class'].value_counts()"
   ],
   "metadata": {
    "collapsed": false,
    "pycharm": {
     "name": "#%%\n"
    }
   }
  },
  {
   "cell_type": "code",
   "execution_count": 16,
   "outputs": [
    {
     "data": {
      "text/plain": "a    52\nb    50\nName: x1, dtype: int64"
     },
     "execution_count": 16,
     "metadata": {},
     "output_type": "execute_result"
    }
   ],
   "source": [
    "# Lung Header y변수 고유값\n",
    "dfPh['x1'].value_counts()"
   ],
   "metadata": {
    "collapsed": false,
    "pycharm": {
     "name": "#%%\n"
    }
   }
  },
  {
   "cell_type": "code",
   "execution_count": null,
   "outputs": [],
   "source": [
    "cthY = 'x1'"
   ],
   "metadata": {
    "collapsed": false,
    "pycharm": {
     "name": "#%%\n"
    }
   }
  },
  {
   "cell_type": "code",
   "execution_count": null,
   "outputs": [],
   "source": [
    "from sklearn.preprocessing import StandardScaler\n",
    "from sklearn.model_selection import train_test_split\n",
    "\n",
    "x = dfCth.loc[:, dfCth.columns != cthY]\n",
    "y = dfCth.loc[:, dfCth.columns == cthY]\n",
    "\n",
    "scaler = StandardScaler()\n",
    "xScaled = scaler.fit_transform(x)"
   ],
   "metadata": {
    "collapsed": false,
    "pycharm": {
     "name": "#%%\n"
    }
   }
  },
  {
   "cell_type": "code",
   "execution_count": null,
   "outputs": [],
   "source": [
    "from sklearn.linear_model import LogisticRegression\n",
    "from sklearn.ensemble import RandomForestClassifier\n",
    "from sklearn.neighbors import KNeighborsClassifier\n",
    "from sklearn.svm import SVC\n",
    "from sklearn.model_selection import GridSearchCV\n",
    "\n",
    "def fitClasifiers(gsClfs, x, y):\n",
    "    for clf in gsClfs:\n",
    "        print(x.shape)\n",
    "        clf.fit(x, y)\n",
    "\n",
    "def showGridSearchResult(gsClfs):\n",
    "    estimators = []\n",
    "    scores = []\n",
    "    params = []\n",
    "\n",
    "    for clf in gsClfs:\n",
    "        estimators.append(str(clf.estimator))\n",
    "        scores.append(clf.best_score_)\n",
    "        params.append(clf.best_params_)\n",
    "\n",
    "    for i, val in enumerate(estimators):\n",
    "        print(val)\n",
    "        print(scores[i])\n",
    "        print(params[i])\n",
    "\n",
    "xTrain, xTest, yTrain, yTest = train_test_split(xScaled, y, test_size=0.2, stratify=y)\n",
    "\n",
    "lr = LogisticRegression()\n",
    "svc = SVC(probability=True)\n",
    "rf = RandomForestClassifier()\n",
    "knn = KNeighborsClassifier(n_neighbors = 3)\n",
    "\n",
    "paramLr = {\"penalty\": [\"l2\"]}\n",
    "paramTree = {\"max_depth\": [3, 4, 5, 6], \"min_samples_split\": [2, 3]}\n",
    "#\"linear\", \"poly\", \"rbf\", \"sigmoid\" 에서 최적의 것을 찾아라는 의미입니다.\n",
    "paramSvc = {\"kernel\": [\"linear\", \"poly\", \"rbf\", \"sigmoid\"]}\n",
    "paramKnn = {\n",
    "    'n_neighbors':[3,5,11,19],\n",
    "    'weights':['uniform','distance'],\n",
    "    'metric':['euclidean','manhattan']\n",
    "}\n",
    "\n",
    "gsLr = GridSearchCV(lr, param_grid=paramLr, cv=5, refit=True)\n",
    "gsSvc = GridSearchCV(svc, param_grid=paramSvc, cv=5, refit=True)\n",
    "gsRf = GridSearchCV(rf, param_grid=paramTree, cv=5, refit=True)\n",
    "gsKnn = GridSearchCV(knn, param_grid=paramKnn, cv=5, refit=True)\n",
    "\n",
    "gsClfs = [gsLr, gsSvc, gsRf, gsKnn]\n",
    "\n",
    "fitClasifiers(gsClfs, xTrain, yTrain.values.ravel())\n",
    "showGridSearchResult(gsClfs)"
   ],
   "metadata": {
    "collapsed": false,
    "pycharm": {
     "name": "#%%\n"
    }
   }
  },
  {
   "cell_type": "code",
   "execution_count": null,
   "outputs": [],
   "source": [
    "from sklearn.metrics import accuracy_score, confusion_matrix, roc_auc_score\n",
    "from sklearn.metrics import recall_score, precision_score, roc_curve\n",
    "from sklearn.metrics import precision_recall_curve\n",
    "\n",
    "def showMetrics(yTest, yPred):\n",
    "    confusion = confusion_matrix(yTest, yPred)\n",
    "    accuracy = accuracy_score(yTest, yPred)\n",
    "    precision = precision_score(yTest, yPred)\n",
    "    recall = recall_score(yTest, yPred)\n",
    "    print(confusion)\n",
    "    print(\"Acc : {}\".format(accuracy))\n",
    "    print(\"precision : {}\".format(precision))\n",
    "    print(\"recall : {}\".format(recall))\n",
    "\n",
    "def showPrecisionRecallCurve(yTest, probPositivePred):\n",
    "    precisions, recalls, thresholds = precision_recall_curve(yTest, probPositivePred)\n",
    "    print(\"th val : {}\".format(thresholds[:4]))\n",
    "    print(\"precision val : {}\".format(precisions[:4]))\n",
    "    print(\"recalls val : {}\".format(recalls[:4]))\n",
    "\n",
    "    df = {\n",
    "        \"thresholds\": thresholds,\n",
    "        \"precisions\": precisions[:-1],\n",
    "        \"recalls\": recalls[:-1]\n",
    "    }\n",
    "    df = pd.DataFrame.from_dict(df)\n",
    "\n",
    "    sns.lineplot(x=\"thresholds\", y=\"precisions\", data=df)\n",
    "    sns.lineplot(x=\"thresholds\", y=\"recalls\", data=df)\n",
    "    plt.show()\n",
    "\n",
    "def showRocCurve(yTest, probPositivePred):\n",
    "    fpr, tpr, thresholds = roc_curve(yTest, probPositivePred)\n",
    "    print(\"fpr val : {}\".format(fpr[:4]))\n",
    "    print(\"tpr val : {}\".format(tpr[:4]))\n",
    "    print(\"thresholds val : {}\".format(thresholds[:4]))\n",
    "\n",
    "    df = {\"threshold\": thresholds, \"fpr\": fpr, \"tpr\": tpr}\n",
    "    df = pd.DataFrame.from_dict(df)\n",
    "    sns.lineplot(x=\"fpr\", y=\"tpr\", data=df)\n",
    "    plt.show()\n",
    "\n",
    "    rocScore = roc_auc_score(yTest, probPositivePred)\n",
    "    print(\"roc score : \" + str(rocScore))\n",
    "\n",
    "def showPredictResults(model):\n",
    "    yPred = model.predict(xTest)\n",
    "    predProb = model.predict_proba(xTest)\n",
    "    print(\"### \"+str(model)+\" showMetrics ###\")\n",
    "    showMetrics(yTest, yPred)\n",
    "\n",
    "    yPred = np.concatenate([predProb, yPred.reshape(-1, 1)], axis=1)\n",
    "    probPositivePred = yPred[:, 1]\n",
    "    print(\"### \"+str(model)+\" showPrecisionRecallCurve ###\")\n",
    "    showPrecisionRecallCurve(yTest, probPositivePred)\n",
    "\n",
    "    print(\"### \"+str(model)+\" showRocCurve ###\")\n",
    "    showRocCurve(yTest, probPositivePred)\n",
    "\n",
    "print('##################################')\n",
    "print('###### LogisticRegression ########')\n",
    "print('##################################')\n",
    "\n",
    "showPredictResults(gsLr)\n",
    "\n",
    "print(' \\n')\n",
    "print(' \\n')\n",
    "\n",
    "print('##################################')\n",
    "print('######### RANDOM FOREST ##########')\n",
    "print('##################################')\n",
    "\n",
    "showPredictResults(gsRf)\n",
    "\n",
    "print(' \\n')\n",
    "print(' \\n')\n",
    "\n",
    "print('##################################')\n",
    "print('######### SVM ###########')\n",
    "print('##################################')\n",
    "showPredictResults(gsSvc)\n",
    "\n",
    "print(' \\n')\n",
    "print(' \\n')\n",
    "\n",
    "print('##################################')\n",
    "print('######### KNN ###########')\n",
    "print('##################################')\n",
    "showPredictResults(gsKnn)\n"
   ],
   "metadata": {
    "collapsed": false,
    "pycharm": {
     "name": "#%%\n"
    }
   }
  }
 ],
 "metadata": {
  "kernelspec": {
   "display_name": "Python 3",
   "language": "python",
   "name": "python3"
  },
  "language_info": {
   "codemirror_mode": {
    "name": "ipython",
    "version": 2
   },
   "file_extension": ".py",
   "mimetype": "text/x-python",
   "name": "python",
   "nbconvert_exporter": "python",
   "pygments_lexer": "ipython2",
   "version": "2.7.6"
  }
 },
 "nbformat": 4,
 "nbformat_minor": 0
}